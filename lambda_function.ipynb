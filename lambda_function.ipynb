{
 "cells": [
  {
   "cell_type": "code",
   "execution_count": null,
   "id": "8c23a1bd-2a29-4778-b197-135933d5ed27",
   "metadata": {},
   "outputs": [],
   "source": [
    "import boto3\n",
    "import json\n",
    "\n",
    "runtime = boto3.client('sagemaker-runtime')\n",
    "\n",
    "ENDPOINT_NAME = \"huggingface-pytorch-inference-2025-04-28-20-09-07-361\"  # Replace with your SageMaker endpoint name\n",
    "\n",
    "def lambda_handler(event, context):\n",
    "    print(\"Received event:\", event)  # For debugging\n",
    "\n",
    "    # Parse the body if needed\n",
    "    if \"body\" in event:\n",
    "        body = event[\"body\"]\n",
    "        if isinstance(body, str):\n",
    "            body = json.loads(body)\n",
    "    else:\n",
    "        body = event\n",
    "\n",
    "    text = body.get(\"text\", \"\")\n",
    "    \n",
    "    if not text:\n",
    "        return {\n",
    "            'statusCode': 400,\n",
    "            'body': json.dumps('No text provided.')\n",
    "        }\n",
    "\n",
    "    # Now call SageMaker endpoint\n",
    "    response = runtime.invoke_endpoint(\n",
    "        EndpointName=ENDPOINT_NAME,\n",
    "        ContentType='application/json',\n",
    "        Body=json.dumps({\"inputs\": text})\n",
    "    )\n",
    "\n",
    "    result = json.loads(response['Body'].read())\n",
    "\n",
    "    return {\n",
    "        'statusCode': 200,\n",
    "        'body': json.dumps(result)\n",
    "    }\n"
   ]
  }
 ],
 "metadata": {
  "kernelspec": {
   "display_name": "Python [conda env:base] *",
   "language": "python",
   "name": "conda-base-py"
  },
  "language_info": {
   "codemirror_mode": {
    "name": "ipython",
    "version": 3
   },
   "file_extension": ".py",
   "mimetype": "text/x-python",
   "name": "python",
   "nbconvert_exporter": "python",
   "pygments_lexer": "ipython3",
   "version": "3.12.7"
  }
 },
 "nbformat": 4,
 "nbformat_minor": 5
}
